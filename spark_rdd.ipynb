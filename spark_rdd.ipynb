{
 "cells": [
  {
   "cell_type": "markdown",
   "metadata": {},
   "source": [
    "### Spark Basics\n",
    "\n",
    "#### Introdution to RDDs (Resilient Distribute Datasets)\n",
    "\n",
    "This document is my personal consolidation of Frank Zane Pyspark Udemy's course."
   ]
  },
  {
   "cell_type": "code",
   "execution_count": 8,
   "metadata": {},
   "outputs": [],
   "source": [
    "# Setup PySpark\n",
    "import findspark\n",
    "findspark.init('/opt/spark')\n",
    "from pyspark import SparkConf, SparkContext\n",
    "import collections\n",
    "\n",
    "# Configure to run on local machine\n",
    "conf = SparkConf().setMaster(\"local\").setAppName(\"Examples\")\n",
    "sc = SparkContext(conf = conf)"
   ]
  },
  {
   "cell_type": "markdown",
   "metadata": {},
   "source": [
    "RDD are datasets used in Spark to handle data that you can apply Transformations or Actions functions.\n",
    "\n",
    "Transformations functions examples:\n",
    "- map\n",
    "- flatmap\n",
    "- filter\n",
    "- distinct\n",
    "- sample\n",
    "- union, intersection, subtract, cartesian\n",
    "\n",
    "Actions functions examples:\n",
    "- collect\n",
    "- count\n",
    "- countByValue\n",
    "- take\n",
    "- top\n",
    "- reduce"
   ]
  },
  {
   "cell_type": "markdown",
   "metadata": {},
   "source": [
    "We are going to perform some operations with a movie rating dataset (100k rows) provided by Movielens.\n",
    "Avaliable at: https://files.grouplens.org/datasets/movielens/ml-100k.zip"
   ]
  },
  {
   "cell_type": "code",
   "execution_count": 51,
   "metadata": {},
   "outputs": [
    {
     "data": {
      "text/plain": [
       "['196\\t242\\t3\\t881250949',\n",
       " '186\\t302\\t3\\t891717742',\n",
       " '22\\t377\\t1\\t878887116',\n",
       " '244\\t51\\t2\\t880606923',\n",
       " '166\\t346\\t1\\t886397596',\n",
       " '298\\t474\\t4\\t884182806',\n",
       " '115\\t265\\t2\\t881171488',\n",
       " '253\\t465\\t5\\t891628467',\n",
       " '305\\t451\\t3\\t886324817',\n",
       " '6\\t86\\t3\\t883603013']"
      ]
     },
     "execution_count": 51,
     "metadata": {},
     "output_type": "execute_result"
    }
   ],
   "source": [
    "# Load an RDD with a text input file\n",
    "lines = sc.textFile(\"u.data\")\n",
    "lines.take(10)\n",
    "\n",
    "# Data structure: [user_id \\t movie_id \\t rating_value \\t timestamp]"
   ]
  },
  {
   "cell_type": "code",
   "execution_count": 48,
   "metadata": {},
   "outputs": [
    {
     "data": {
      "text/plain": [
       "['3', '3', '1', '2', '1', '4', '2', '5', '3', '3']"
      ]
     },
     "execution_count": 48,
     "metadata": {},
     "output_type": "execute_result"
    }
   ],
   "source": [
    "# Consume just the ratings\n",
    "ratings = lines.map(lambda x: x.split()[2])\n",
    "ratings.take(10)"
   ]
  },
  {
   "cell_type": "code",
   "execution_count": 50,
   "metadata": {},
   "outputs": [
    {
     "name": "stdout",
     "output_type": "stream",
     "text": [
      "rate \t count\n",
      "1 \t 6110\n",
      "2 \t 11370\n",
      "3 \t 27145\n",
      "4 \t 34174\n",
      "5 \t 21201\n"
     ]
    }
   ],
   "source": [
    "# Call a action method to count how many times a rate has been voted\n",
    "result = ratings.countByValue()\n",
    "sortedResults = collections.OrderedDict(sorted(result.items()))\n",
    "\n",
    "print(\"rate \\t count\")\n",
    "for key, value in sortedResults.items():\n",
    "    print(\"{} \\t {}\".format(key, value))"
   ]
  },
  {
   "cell_type": "markdown",
   "metadata": {},
   "source": [
    "---"
   ]
  },
  {
   "cell_type": "markdown",
   "metadata": {},
   "source": [
    "#### Key Values RDDs"
   ]
  },
  {
   "cell_type": "markdown",
   "metadata": {},
   "source": [
    "Special functions examples\n",
    "- reduceByKey\n",
    "- groupByKey\n",
    "- sortByKey\n",
    "- keys, values\n",
    "\n",
    "You can also run SQL style jobs like: join, rightOuterJoin, leftOuterJoin, cogroup, subtractByKey\n",
    "\n",
    "Performance tip:\n",
    "If you are going to transform just the values use mapValues()/flatMapValues() instead map() and flatMap()"
   ]
  },
  {
   "cell_type": "code",
   "execution_count": 69,
   "metadata": {},
   "outputs": [],
   "source": [
    "# Here's an example of reading a csv file and transforming it into a key value rdd\n",
    "\n",
    "def parseLine(line):\n",
    "    friend = line.split(\",\")\n",
    "    return (int(friend[2]), int(friend[3]))\n",
    "\n",
    "lines = sc.textFile(\"fakefriends.csv\")\n",
    "rdd = lines.map(parseLine)"
   ]
  },
  {
   "cell_type": "code",
   "execution_count": 70,
   "metadata": {},
   "outputs": [
    {
     "data": {
      "text/plain": [
       "['0,Will,33,385',\n",
       " '1,Jean-Luc,26,2',\n",
       " '2,Hugh,55,221',\n",
       " '3,Deanna,40,465',\n",
       " '4,Quark,68,21']"
      ]
     },
     "execution_count": 70,
     "metadata": {},
     "output_type": "execute_result"
    }
   ],
   "source": [
    "lines.take(5)\n",
    "# Data struct full rdd: [Id, name, age, number_of_friends]"
   ]
  },
  {
   "cell_type": "code",
   "execution_count": 71,
   "metadata": {},
   "outputs": [
    {
     "data": {
      "text/plain": [
       "[(33, 385), (26, 2), (55, 221), (40, 465), (68, 21)]"
      ]
     },
     "execution_count": 71,
     "metadata": {},
     "output_type": "execute_result"
    }
   ],
   "source": [
    "rdd.take(5)\n",
    "# Data struct mapped rdd: [(age, number_of_friends)]"
   ]
  },
  {
   "cell_type": "code",
   "execution_count": 80,
   "metadata": {},
   "outputs": [
    {
     "data": {
      "text/plain": [
       "[(33, (385, 1)), (26, (2, 1)), (55, (221, 1)), (40, (465, 1)), (68, (21, 1))]"
      ]
     },
     "execution_count": 80,
     "metadata": {},
     "output_type": "execute_result"
    }
   ],
   "source": [
    "# Count sum of friends and number of entries by age\n",
    "total_by_age = rdd.mapValues(lambda x: (x, 1))\n",
    "total_by_age.take(5)"
   ]
  },
  {
   "cell_type": "code",
   "execution_count": 81,
   "metadata": {},
   "outputs": [
    {
     "data": {
      "text/plain": [
       "[(33, (3904, 411)),\n",
       " (26, (4115, 85)),\n",
       " (55, (3842, 272)),\n",
       " (40, (4264, 221)),\n",
       " (68, (2696, 424)),\n",
       " (59, (1980, 222)),\n",
       " (37, (2244, 472)),\n",
       " (54, (3615, 116)),\n",
       " (38, (2903, 161)),\n",
       " (27, (1825, 155))]"
      ]
     },
     "execution_count": 81,
     "metadata": {},
     "output_type": "execute_result"
    }
   ],
   "source": [
    "total_by_age = total_by_age.reduceByKey(lambda x, y: (x[0]+y[0], y[0]+y[1]))\n",
    "total_by_age.take(10)"
   ]
  },
  {
   "cell_type": "code",
   "execution_count": 113,
   "metadata": {},
   "outputs": [],
   "source": [
    "avg_by_age = total_by_age.mapValues(lambda x: x[0]/x[1])"
   ]
  },
  {
   "cell_type": "code",
   "execution_count": 114,
   "metadata": {},
   "outputs": [
    {
     "data": {
      "text/plain": [
       "[(33, 9.498783454987835),\n",
       " (26, 48.411764705882355),\n",
       " (55, 14.125),\n",
       " (40, 19.294117647058822),\n",
       " (68, 6.3584905660377355)]"
      ]
     },
     "execution_count": 114,
     "metadata": {},
     "output_type": "execute_result"
    }
   ],
   "source": [
    "avg_by_age.take(5)"
   ]
  },
  {
   "cell_type": "code",
   "execution_count": null,
   "metadata": {},
   "outputs": [],
   "source": []
  }
 ],
 "metadata": {
  "kernelspec": {
   "display_name": "Python 3",
   "language": "python",
   "name": "python3"
  },
  "language_info": {
   "codemirror_mode": {
    "name": "ipython",
    "version": 3
   },
   "file_extension": ".py",
   "mimetype": "text/x-python",
   "name": "python",
   "nbconvert_exporter": "python",
   "pygments_lexer": "ipython3",
   "version": "3.8.5"
  }
 },
 "nbformat": 4,
 "nbformat_minor": 4
}
